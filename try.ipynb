{
 "cells": [
  {
   "cell_type": "code",
   "execution_count": 22,
   "metadata": {},
   "outputs": [
    {
     "name": "stdout",
     "output_type": "stream",
     "text": [
      "Mr. Rogers is an ordained minister.\n"
     ]
    }
   ],
   "source": [
    "import requests\n",
    "print(requests.get(\"https://uselessfacts.jsph.pl/random.json\").json()[\"text\"])"
   ]
  }
 ],
 "metadata": {
  "interpreter": {
   "hash": "4f90bca6d5532465107dddf48f58200c9df515003323938e85648d01de9b439e"
  },
  "kernelspec": {
   "display_name": "Python 3.9.7 32-bit",
   "language": "python",
   "name": "python3"
  },
  "language_info": {
   "codemirror_mode": {
    "name": "ipython",
    "version": 3
   },
   "file_extension": ".py",
   "mimetype": "text/x-python",
   "name": "python",
   "nbconvert_exporter": "python",
   "pygments_lexer": "ipython3",
   "version": "3.9.7"
  },
  "orig_nbformat": 4
 },
 "nbformat": 4,
 "nbformat_minor": 2
}
